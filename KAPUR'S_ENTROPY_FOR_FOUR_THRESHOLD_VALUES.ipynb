{
  "nbformat": 4,
  "nbformat_minor": 0,
  "metadata": {
    "colab": {
      "name": "KAPUR'S ENTROPY  FOR FOUR THRESHOLD VALUES",
      "provenance": [],
      "authorship_tag": "ABX9TyMLW8VyXtfTGdMdxWacaoLc",
      "include_colab_link": true
    },
    "kernelspec": {
      "name": "python3",
      "display_name": "Python 3"
    }
  },
  "cells": [
    {
      "cell_type": "markdown",
      "metadata": {
        "id": "view-in-github",
        "colab_type": "text"
      },
      "source": [
        "<a href=\"https://colab.research.google.com/github/kartikeyaGUPTA45/KAPUR-S-ENTROPY/blob/master/KAPUR'S_ENTROPY_FOR_FOUR_THRESHOLD_VALUES.ipynb\" target=\"_parent\"><img src=\"https://colab.research.google.com/assets/colab-badge.svg\" alt=\"Open In Colab\"/></a>"
      ]
    },
    {
      "cell_type": "markdown",
      "metadata": {
        "id": "mue2-Tj-EY5V",
        "colab_type": "text"
      },
      "source": [
        "# KAPUR'S ENTROPY FOR FOUR THRESHOLD VALUES"
      ]
    },
    {
      "cell_type": "markdown",
      "metadata": {
        "id": "TszJvkxxEjKP",
        "colab_type": "text"
      },
      "source": [
        "# IMPORTING THE LIBRARIES"
      ]
    },
    {
      "cell_type": "code",
      "metadata": {
        "id": "LKKWV50n9Hax",
        "colab_type": "code",
        "colab": {}
      },
      "source": [
        "import math\n",
        "import numpy as np\n",
        "from matplotlib import pyplot as plt\n",
        "from PIL import Image"
      ],
      "execution_count": 0,
      "outputs": []
    },
    {
      "cell_type": "markdown",
      "metadata": {
        "id": "H6VeSFetEqfG",
        "colab_type": "text"
      },
      "source": [
        "# READ AN IMAGE AND CONVERT IT INTO GREYSCALE"
      ]
    },
    {
      "cell_type": "code",
      "metadata": {
        "id": "dZ7O5Azj9M_G",
        "colab_type": "code",
        "colab": {
          "base_uri": "https://localhost:8080/",
          "height": 35
        },
        "outputId": "d98156c0-ed77-49e5-dfb6-0fb83a478382"
      },
      "source": [
        "image = Image.open('lena.tiff').convert(\"L\")\n",
        "print(image)"
      ],
      "execution_count": 2,
      "outputs": [
        {
          "output_type": "stream",
          "text": [
            "<PIL.Image.Image image mode=L size=512x512 at 0x7F7CB1B3EB70>\n"
          ],
          "name": "stdout"
        }
      ]
    },
    {
      "cell_type": "markdown",
      "metadata": {
        "id": "1xT_gdbpEx_2",
        "colab_type": "text"
      },
      "source": [
        "# DEFINE THE THRESHOLD VALUES"
      ]
    },
    {
      "cell_type": "code",
      "metadata": {
        "id": "bviL6Fqy9lju",
        "colab_type": "code",
        "colab": {}
      },
      "source": [
        "thresholds=[64,97,137,179]\n",
        "thresholds.append(255)\n",
        "thresholds.insert(0,0)"
      ],
      "execution_count": 0,
      "outputs": []
    },
    {
      "cell_type": "markdown",
      "metadata": {
        "id": "U7b9TdhrE5pn",
        "colab_type": "text"
      },
      "source": [
        "# CONVERT IMAGE INTO ARRAY"
      ]
    },
    {
      "cell_type": "code",
      "metadata": {
        "id": "IMUmrLeK9ojh",
        "colab_type": "code",
        "colab": {
          "base_uri": "https://localhost:8080/",
          "height": 141
        },
        "outputId": "37c432d9-585c-45f5-ad3e-78cf1f4b4bac"
      },
      "source": [
        "img = np.asarray(image)#Convert given input into array\n",
        "print(img)"
      ],
      "execution_count": 4,
      "outputs": [
        {
          "output_type": "stream",
          "text": [
            "[[162 162 162 ... 170 155 128]\n",
            " [162 162 162 ... 170 155 128]\n",
            " [162 162 162 ... 170 155 128]\n",
            " ...\n",
            " [ 43  43  50 ... 104 100  98]\n",
            " [ 44  44  55 ... 104 105 108]\n",
            " [ 44  44  55 ... 104 105 108]]\n"
          ],
          "name": "stdout"
        }
      ]
    },
    {
      "cell_type": "markdown",
      "metadata": {
        "id": "C3jZUPGrFHKk",
        "colab_type": "text"
      },
      "source": [
        "# MAKING HISTOGRAM"
      ]
    },
    {
      "cell_type": "code",
      "metadata": {
        "id": "j1uy_nBe9s4d",
        "colab_type": "code",
        "colab": {}
      },
      "source": [
        "def Hist(img):\n",
        "    row, col = img.shape \n",
        "    y = np.zeros(256,dtype=float)\n",
        "    for i in range(0,row):\n",
        "        for j in range(0,col):\n",
        "             y[img[i,j]] += 1\n",
        "    x = np.arange(0,256)\n",
        "    plt.bar(x, y, color='b', width=5, align='edge', alpha=0.25)\n",
        "    plt.show()\n",
        "    return y"
      ],
      "execution_count": 0,
      "outputs": []
    },
    {
      "cell_type": "code",
      "metadata": {
        "id": "3R0OT_aV9vUR",
        "colab_type": "code",
        "colab": {
          "base_uri": "https://localhost:8080/",
          "height": 265
        },
        "outputId": "05a7f19b-761a-4204-a780-e1aecc0c0c0a"
      },
      "source": [
        "h=Hist(img)"
      ],
      "execution_count": 6,
      "outputs": [
        {
          "output_type": "display_data",
          "data": {
            "image/png": "[encoded data removed]",
            "text/plain": [
              "<Figure size 432x288 with 1 Axes>"
            ]
          },
          "metadata": {
            "tags": [],
            "needs_background": "light"
          }
        }
      ]
    },
    {
      "cell_type": "markdown",
      "metadata": {
        "id": "Q7T2zfUiFK7j",
        "colab_type": "text"
      },
      "source": [
        "# COUNTING THE PIXELS"
      ]
    },
    {
      "cell_type": "code",
      "metadata": {
        "id": "DR74bHUB9yy_",
        "colab_type": "code",
        "colab": {
          "base_uri": "https://localhost:8080/",
          "height": 35
        },
        "outputId": "39bdb6d7-d415-4783-f5a9-947538a78cbb"
      },
      "source": [
        "cnt = 0\n",
        "for i in range(0, len(h)):\n",
        "    if h[i]>0:\n",
        "           cnt += h[i]\n",
        "            \n",
        "print(cnt)"
      ],
      "execution_count": 7,
      "outputs": [
        {
          "output_type": "stream",
          "text": [
            "262144.0\n"
          ],
          "name": "stdout"
        }
      ]
    },
    {
      "cell_type": "markdown",
      "metadata": {
        "id": "OVKzbTU2FTQz",
        "colab_type": "text"
      },
      "source": [
        "# FINDING PROBABILITIES OF AN INDIVIDUAL PIXELS"
      ]
    },
    {
      "cell_type": "code",
      "metadata": {
        "id": "q0kzoWbJ93Lb",
        "colab_type": "code",
        "colab": {}
      },
      "source": [
        "prob=[]\n",
        "for i in range (len(h)):\n",
        "    h[i]=h[i]/cnt\n",
        "    prob.append(h[i])"
      ],
      "execution_count": 0,
      "outputs": []
    },
    {
      "cell_type": "markdown",
      "metadata": {
        "id": "jyGeFO9dFeDI",
        "colab_type": "text"
      },
      "source": [
        "# KAPUR'S ENTROPY CALCULATION"
      ]
    },
    {
      "cell_type": "code",
      "metadata": {
        "id": "WgLyOqQ9Cclh",
        "colab_type": "code",
        "colab": {}
      },
      "source": [
        "w0=prob[:]"
      ],
      "execution_count": 0,
      "outputs": []
    },
    {
      "cell_type": "code",
      "metadata": {
        "id": "LKWU0t3g_ieo",
        "colab_type": "code",
        "colab": {
          "base_uri": "https://localhost:8080/",
          "height": 35
        },
        "outputId": "41e41f92-6680-475d-f7c4-f4e51d8f03b0"
      },
      "source": [
        "SUM=[]\n",
        "for i in range(len(thresholds)-1):\n",
        "    SUM.append(sum(h[thresholds[i]:thresholds[i+1]]))\n",
        "    \n",
        "print(SUM)"
      ],
      "execution_count": 10,
      "outputs": [
        {
          "output_type": "stream",
          "text": [
            "[0.16226959228515625, 0.12503814697265625, 0.2763481140136719, 0.3064155578613281, 0.1299285888671875]\n"
          ],
          "name": "stdout"
        }
      ]
    },
    {
      "cell_type": "code",
      "metadata": {
        "id": "Drv93OEd_oLz",
        "colab_type": "code",
        "colab": {
          "base_uri": "https://localhost:8080/",
          "height": 88
        },
        "outputId": "92c60939-8115-4032-f0a2-64fbecbace8c"
      },
      "source": [
        "print(w0[64])\n",
        "print(w0[97])\n",
        "print(w0[137])\n",
        "print(w0[179])"
      ],
      "execution_count": 11,
      "outputs": [
        {
          "output_type": "stream",
          "text": [
            "0.00335693359375\n",
            "0.006893157958984375\n",
            "0.007259368896484375\n",
            "0.00359344482421875\n"
          ],
          "name": "stdout"
        }
      ]
    },
    {
      "cell_type": "code",
      "metadata": {
        "id": "58AC_JCf_qxt",
        "colab_type": "code",
        "colab": {}
      },
      "source": [
        "\n",
        "for i in range(0,w0.index(0.00335693359375)):\n",
        "    w0[i]=w0[i]/SUM[0]\n",
        "for i in range(w0.index(0.00335693359375),w0.index(0.006893157958984375)):\n",
        "    w0[i]=w0[i]/SUM[1]\n",
        "for i in range(w0.index(0.006893157958984375),w0.index(0.007259368896484375)):\n",
        "    w0[i]=w0[i]/SUM[2]\n",
        "    \n",
        "for i in range(w0.index(0.007259368896484375),w0.index(0.00359344482421875)):\n",
        "    w0[i]=w0[i]/SUM[3]\n",
        "for i in range(w0.index(0.00359344482421875),256):\n",
        "    w0[i]=w0[i]/SUM[4]"
      ],
      "execution_count": 0,
      "outputs": []
    },
    {
      "cell_type": "code",
      "metadata": {
        "id": "ZxihtmA0_zsS",
        "colab_type": "code",
        "colab": {
          "base_uri": "https://localhost:8080/",
          "height": 55
        },
        "outputId": "2c9c11c7-d360-4c8c-cfe5-d6000f4b24e5"
      },
      "source": [
        "print(w0)"
      ],
      "execution_count": 13,
      "outputs": [
        {
          "output_type": "stream",
          "text": [
            "[0.0, 0.0, 0.0, 0.0, 0.0, 0.0, 0.0, 0.0, 0.0, 0.0, 0.0, 0.0, 0.0, 0.0, 0.0, 0.0, 0.0, 0.0, 0.0, 0.0, 0.0, 0.0, 0.0, 0.0, 0.0, 2.3508392496121114e-05, 0.0001645587474728478, 0.0004466594574263012, 0.0006817433823875123, 0.0013869951572711458, 0.0022803140721237482, 0.0032206497719685927, 0.004278527434294043, 0.005195354741642766, 0.0070290093563402135, 0.00992054163336311, 0.011730687855564437, 0.014434152992618365, 0.017819361512059807, 0.022191922516338333, 0.024918896045888383, 0.029503032582632, 0.03387559358691053, 0.0387418308336076, 0.041374770793173164, 0.04428981146269218, 0.04696976820724999, 0.04913254031689313, 0.047557478019653016, 0.049391132634350465, 0.04908552353190089, 0.047722036767125865, 0.046499600357327565, 0.042503173632986974, 0.04066951901828953, 0.03921199868353002, 0.037072734966383, 0.03453382857680192, 0.030043725610042784, 0.0290563731252057, 0.028680238845267762, 0.02357891767360948, 0.021862805021392637, 0.022920682683718087, 0.026847275611690768, 0.027243883092318018, 0.024071023247300018, 0.024345597656965038, 0.023460857892488866, 0.023857465373116116, 0.025932027579474038, 0.025047287814997866, 0.02535237049240344, 0.023948990176337788, 0.02693880041491244, 0.027640490572945268, 0.026450668131063518, 0.026054060650436268, 0.028891329550308133, 0.029684544511562633, 0.027640490572945268, 0.027823540179388616, 0.026450668131063518, 0.028494722069680883, 0.028464213801940325, 0.02959301970834096, 0.03066080907926048, 0.031087924827628288, 0.03233876380499115, 0.03456586735005186, 0.0343218012081274, 0.03618280554030142, 0.03718957837573982, 0.04039294648849838, 0.042711574836780765, 0.04692171578497773, 0.049392885471962904, 0.024943748878428557, 0.025827202076115014, 0.028781248705879104, 0.026158497025247435, 0.02671065527380147, 0.02702814626672004, 0.02527504382756098, 0.024308766892591416, 0.023867040293748188, 0.022279585329155336, 0.02076115014563174, 0.01983628507930373, 0.018814792319478763, 0.018800988363264912, 0.01859392902005715, 0.018566321107629447, 0.01998812859765609, 0.018800988363264912, 0.018662948801126403, 0.019159891224825035, 0.02001573651008379, 0.02154797564982124, 0.02174123103681515, 0.022141545767016827, 0.024584846016868434, 0.025026572615711663, 0.026130889112819734, 0.02811865880761426, 0.02949905442899935, 0.03180431511671245, 0.032011374459920215, 0.03275678809546816, 0.03477216570269039, 0.0318181190729263, 0.03177670720428475, 0.031086509393592202, 0.028657013099954446, 0.027538892646632524, 0.025095592396780917, 0.02671065527380147, 0.023691254279489572, 0.025210084033613446, 0.026641767818238408, 0.028110799875505757, 0.028695922813569873, 0.028932461873638345, 0.030563336445689388, 0.030600684718331776, 0.029990662931839402, 0.027812013694366637, 0.028820417055711173, 0.028484282601929662, 0.02716464363523187, 0.02832244008714597, 0.028820417055711173, 0.02976657329598506, 0.03234360410830999, 0.03342670401493931, 0.034136321195144724, 0.03362589480236539, 0.031820728291316526, 0.030003112356053532, 0.028148148148148148, 0.025409274821039527, 0.02306878306878307, 0.022172424525365702, 0.020080921257391846, 0.018338001867413634, 0.017740429505135387, 0.01684407096171802, 0.015350140056022409, 0.015611577964519141, 0.014877061935885465, 0.014578275754746343, 0.015038904450669157, 0.01673202614379085, 0.015748521630874573, 0.015312791783380018, 0.014416433239962652, 0.014752567693744164, 0.015275443510737629, 0.013520074696545285, 0.027657075748678803, 0.026541397533763948, 0.02413388138578978, 0.023018203170874926, 0.020229007633587787, 0.01790957134468585, 0.018438050499119202, 0.018907809747504403, 0.019935408103347034, 0.018643570170287727, 0.019436288901937757, 0.021697005284791543, 0.023399882560187903, 0.024310041103934234, 0.027627715795654727, 0.02657075748678802, 0.02871403405754551, 0.026981796829125073, 0.026717557251908396, 0.024750440399295363, 0.024192601291837933, 0.025455079271873165, 0.026482677627715796, 0.024486200822078686, 0.026012918379330594, 0.02668819729888432, 0.028479154433352905, 0.028655314151497357, 0.03126834997064005, 0.030622431004110395, 0.03135642982971227, 0.028068115091015856, 0.02883147386964181, 0.02803875513799178, 0.02536699941280094, 0.020463887257780387, 0.015971814445096887, 0.014415736934820905, 0.011538461538461539, 0.011186142102172636, 0.008338226658837346, 0.006752789195537287, 0.006870229007633588, 0.0057251908396946565, 0.00551967116852613, 0.0036699941280093954, 0.0022607163828537876, 0.002172636523781562, 0.0017322372284204344, 0.0014973576042278333, 0.0006459189665296535, 0.000557839107457428, 0.00026423957721667646, 0.00020551967116852612, 0.00017615971814445098, 0.0002348796241926013, 2.935995302407516e-05, 0.0, 0.0, 2.935995302407516e-05, 0.0, 0.0, 0.0, 5.871990604815032e-05, 0.0, 2.935995302407516e-05, 2.935995302407516e-05, 0.0, 0.0, 0.0, 0.0, 0.0, 0.0, 0.0, 0.0, 0.0, 0.0]\n"
          ],
          "name": "stdout"
        }
      ]
    },
    {
      "cell_type": "code",
      "metadata": {
        "id": "Oty5opVfAZGi",
        "colab_type": "code",
        "colab": {}
      },
      "source": [
        "w1=prob[:]"
      ],
      "execution_count": 0,
      "outputs": []
    },
    {
      "cell_type": "code",
      "metadata": {
        "id": "9NDOGDttAcl4",
        "colab_type": "code",
        "colab": {}
      },
      "source": [
        "for i in range(0,w1.index(0.00335693359375)):\n",
        "    if w1[i]==0:\n",
        "        w1[i]=w1[i]\n",
        "    else:\n",
        "        w1[i]=math.log(w1[i]/SUM[0])\n",
        "for i in range(w1.index(0.00335693359375),w1.index(0.006893157958984375)):\n",
        "    if w1[i]==0:\n",
        "        w1[i]=w1[i]\n",
        "    else:\n",
        "        w1[i]=math.log(w1[i]/SUM[1])\n",
        "for i in range(w1.index(0.006893157958984375),w1.index(0.007259368896484375)):\n",
        "    if w1[i]==0:\n",
        "        w1[i]=w1[i]\n",
        "    else:\n",
        "        w1[i]=math.log(w1[i]/SUM[2])\n",
        "for i in range(w1.index(0.007259368896484375),w1.index(0.00359344482421875)):\n",
        "    if w1[i]==0:\n",
        "        w1[i]=w1[i]\n",
        "    else:\n",
        "        w1[i]=math.log(w1[i]/SUM[3])\n",
        "    \n",
        "for i in range(w1.index(0.00359344482421875),256):\n",
        "    if w1[i]==0:\n",
        "        w1[i]=w1[i]\n",
        "    else:\n",
        "        w1[i]=math.log(w1[i]/SUM[4])\n",
        "\n"
      ],
      "execution_count": 0,
      "outputs": []
    },
    {
      "cell_type": "code",
      "metadata": {
        "id": "cboh5D3jBB33",
        "colab_type": "code",
        "colab": {
          "base_uri": "https://localhost:8080/",
          "height": 55
        },
        "outputId": "3f991c00-04f5-483c-c0e5-a6871f3e9cc9"
      },
      "source": [
        "print(w1)"
      ],
      "execution_count": 16,
      "outputs": [
        {
          "output_type": "stream",
          "text": [
            "[0.0, 0.0, 0.0, 0.0, 0.0, 0.0, 0.0, 0.0, 0.0, 0.0, 0.0, 0.0, 0.0, 0.0, 0.0, 0.0, 0.0, 0.0, 0.0, 0.0, 0.0, 0.0, 0.0, 0.0, 0.0, -10.658153073074491, -8.712242924019177, -7.71371409390805, -7.290857243088016, -6.580615629168771, -6.083442094571107, -5.738172147246366, -5.454146385997695, -5.2599903715567375, -4.957709499683804, -4.613147759038479, -4.445546977322971, -4.238158144927348, -4.027469687432118, -3.8080269069289896, -3.6921288859683776, -3.523262221508606, -3.385060477074968, -3.2508353626050734, -3.1850839850422927, -3.117000617938182, -3.0582511138659916, -3.0132337281156336, -3.0458162359067447, -3.00798437222949, -3.014191124071961, -3.0423620010386574, -3.068311560891833, -3.1581765321223685, -3.2022763855826657, -3.238772490155798, -3.294873486111452, -3.365815896900613, -3.5051014381370105, -3.5385174350568542, -3.5515469353471882, -3.747402285112555, -3.8229684869271887, -3.775715602076643, -3.6175909301515206, -3.6029262567472737, -3.7267465167778986, -3.7154042401739638, -3.7524218681181285, -3.7356580970784616, -3.6522764881394103, -3.686989728171344, -3.6748830427683243, -3.7318291198413642, -3.6141876370198127, -3.588473531580793, -3.632473860843231, -3.6475816438352027, -3.544213744437694, -3.5171287554377675, -3.588473531580793, -3.581872847549441, -3.632473860843231, -3.55803639939493, -3.559107636776429, -3.520216766126344, -3.4847700171305966, -3.470935804401048, -3.43148865051766, -3.3648885765957663, -3.3719745229852522, -3.319171258066102, -3.2917267081425012, -3.209100101126819, -3.1532853220204227, -3.059274687558183, -3.0079488839461375, -3.691132034131258, -3.656326998449397, -3.5480311904905846, -3.6435812072069598, -3.622692719259604, -3.610876501633031, -3.6779377800489756, -3.7169182162272802, -3.7352568390401957, -3.804084475893592, -3.874671820213701, -3.920242438644461, -3.9731118930269536, -3.9738458380140287, -3.9849201483131225, -3.986406032687547, -3.9126167517778248, -3.9738458380140287, -3.981215068120577, -3.9549361836567365, -3.911236489308866, -3.8374734042080543, -3.828544773463753, -3.8102995362970264, -3.7056250414338248, -3.6878171139686353, -3.6446371735141634, -3.5713219084966807, -3.523397069404339, -3.4481533029077043, -3.4416639874679547, -3.4186450682877227, -3.358938048370876, -3.4477193692927375, -3.4490217354416584, -3.470981335463905, -3.552357080437707, -3.5921559953995224, -3.6850630499860624, -3.622692719259604, -3.74264931668791, -3.6805112044434196, -3.625275075968162, -3.5716014392744517, -3.55100022855331, -3.5427910660122572, -3.487954143755438, -3.486732893858079, -3.5068691813691877, -3.582287204354913, -3.5466712174637247, -3.5584028314843708, -3.6058390175910433, -3.5641008525990086, -3.5466712174637247, -3.5143692165257345, -3.4313389867535142, -3.3984001770410943, -3.3773933238617997, -3.3924588301914436, -3.447637368486634, -3.5064541574993586, -3.5702737117060894, -3.6726410211742144, -3.7692749576986992, -3.8089059006943975, -3.90798510585885, -3.998779767521429, -4.0319090912813085, -4.083756555813271, -4.176630680819715, -4.159742462791193, -4.207934719618448, -4.228222820386342, -4.197114805489299, -4.090430662900964, -4.151008782822439, -4.179066735617596, -4.239386525851119, -4.216338130414828, -4.181508739273148, -4.303579683490178, -3.587873679640316, -3.6290495938245027, -3.7241385591604996, -3.7714699338662716, -3.9006376832030205, -4.022419997049322, -3.9933387877484807, -3.9681802281123257, -3.9152578266579834, -3.9822539553239875, -3.940613398279671, -3.8305810332684778, -3.7550242754264644, -3.7168657998314196, -3.5889358146312995, -3.627944010516753, -3.550369284181862, -3.6125928318609923, -3.6224343547057836, -3.698911996214824, -3.7217084243072076, -3.6708399774361373, -3.6312644341540556, -3.7096455518579323, -3.649162003611598, -3.6235338600392004, -3.558582882719251, -3.5524163678035867, -3.4651488760731537, -3.4860224992159066, -3.462335934696539, -3.573121041165278, -3.5462876458622135, -3.574167613735949, -3.6743061854126235, -3.8890935434561555, -4.1369297073607365, -4.239434826422158, -4.462069342347418, -4.4930795790899785, -4.786904716055473, -4.997799645293484, -4.980557838858978, -5.162879395652933, -5.19943699138673, -5.607565216914378, -6.0920735323629955, -6.1318138610125095, -6.35834151031096, -6.5040533214923535, -7.344836500858364, -7.4914399750502385, -8.23865437688046, -8.489968805161366, -8.644119484988623, -8.356437412536843, -10.43587895421668, 0.0, 0.0, -10.43587895421668, 0.0, 0.0, 0.0, -9.742731773656734, 0.0, -10.43587895421668, -10.43587895421668, 0.0, 0.0, 0.0, 0.0, 0.0, 0.0, 0.0, 0.0, 0.0, 0.0]\n"
          ],
          "name": "stdout"
        }
      ]
    },
    {
      "cell_type": "code",
      "metadata": {
        "id": "o_ZENze9EFOI",
        "colab_type": "code",
        "colab": {
          "base_uri": "https://localhost:8080/",
          "height": 55
        },
        "outputId": "7f486a64-29df-42d7-c8d7-d0236ffdfa0a"
      },
      "source": [
        "mul=[]\n",
        "for i in range(len(w0)):\n",
        "    mul.append(w0[i]*w1[i])\n",
        "    \n",
        "print(mul)"
      ],
      "execution_count": 17,
      "outputs": [
        {
          "output_type": "stream",
          "text": [
            "[0.0, 0.0, 0.0, 0.0, 0.0, 0.0, 0.0, 0.0, 0.0, 0.0, 0.0, 0.0, 0.0, 0.0, 0.0, 0.0, 0.0, 0.0, 0.0, 0.0, 0.0, 0.0, 0.0, 0.0, 0.0, -0.00025055604572557456, -0.001433675783255777, -0.0034454033519265817, -0.004970493677407317, -0.0091272820095199, -0.013872158615200466, -0.018480642817545537, -0.023335714943146846, -0.02732751591786259, -0.03484778645929422, -0.04576492440439696, -0.05214932393822377, -0.061174223070792975, -0.07176693833921542, -0.08450743805869966, -0.09200377589746768, -0.1039469201183248, -0.11467093298850509, -0.12594331368595518, -0.13178211983813146, -0.13805136969757711, -0.14364534593784972, -0.14804782763086358, -0.1448513386910373, -0.14856775509084016, -0.14795314935028103, -0.14518771127247343, -0.1426752613532382, -0.13423252550842169, -0.13023504036527367, -0.1269987426202424, -0.12214997149837227, -0.11623450920464057, -0.10530630584275469, -0.10281648290305778, -0.1018592143759361, -0.08835968997056497, -0.08358081463261756, -0.08654197921916232, -0.09712246075213064, -0.0981577017290657, -0.08970660204215516, -0.09045373676425722, -0.088035036200587, -0.08912333369685024, -0.09471093461829577, -0.0923490928924484, -0.09316699641651344, -0.08937353893085212, -0.09736187941572075, -0.09918716882092253, -0.09608136058792731, -0.09503431337590039, -0.102397047287281, -0.10440436509368929, -0.09918716882092253, -0.09966038309125298, -0.09608136058792731, -0.10138525831456661, -0.10130720071732284, -0.10417384413760919, -0.1068458681803725, -0.1079041913687433, -0.11097010096859843, -0.11631029218631408, -0.11573223925677005, -0.12009692818556339, -0.1224179284039816, -0.12962500866105034, -0.1346817820131976, -0.14354641739778162, -0.1485712747302702, -0.09207067053649329, -0.09443269624530765, -0.10211676810972584, -0.09531060816997072, -0.09676449638705374, -0.09759529823719992, -0.09296003858578018, -0.09035369847709565, -0.08914952548487085, -0.08475342467998644, -0.08044264342450487, -0.07776304659293638, -0.07475327512935326, -0.07471222935791046, -0.0740953223883298, -0.07401289446826817, -0.07820588678787861, -0.07471222935791046, -0.07430121298260729, -0.07577614707998773, -0.07828627899863141, -0.08268978347071176, -0.08323727645466658, -0.08436592156896361, -0.09110222103990229, -0.09229342279620026, -0.09523760983755934, -0.10042078223717596, -0.10393688192533539, -0.10966615421640948, -0.11017239466805885, -0.11198383207551822, -0.11679755040302357, -0.10969994542219069, -0.10959855382834363, -0.1079006938898819, -0.10179994338981929, -0.09892399832726484, -0.09247884025888853, -0.09676449638705374, -0.08866805664061117, -0.09278599675067445, -0.09658373685119037, -0.10040057329451244, -0.10189922846953477, -0.10250166744366618, -0.1066035160027339, -0.10669641398198765, -0.10517333156449889, -0.09963062078467322, -0.10221654364679145, -0.1013585518635075, -0.09795133191887527, -0.10094403286228128, -0.10221654364679145, -0.10461072887286686, -0.1109818697489652, -0.11359731684227001, -0.11529178330568385, -0.11407446374537304, -0.10970633194960269, -0.10520453805880428, -0.10049659336654178, -0.09331914502603886, -0.08695258632574777, -0.0844526786073666, -0.0784759411858117, -0.07332963084418381, -0.07152779900499052, -0.06878708521649991, -0.06411186591286284, -0.06494014377018557, -0.0626017054459265, -0.06164019822810341, -0.06312000852824244, -0.06844119279102268, -0.06537225160622952, -0.06399317877136187, -0.06111683282832985, -0.06220181368865946, -0.06387440053642268, -0.058184718783321925, -0.09923009413450316, -0.09632004793944071, -0.08987791825102556, -0.08681246119058006, -0.07890602946937408, -0.07203981791544588, -0.07362938222859794, -0.07502959679695648, -0.07805226260425045, -0.0742434310519886, -0.0765909004598104, -0.0831121369226484, -0.08786712705563395, -0.0903571603717092, -0.09915409869548011, -0.09639722047908578, -0.10194542454286146, -0.09747424581562689, -0.09678259726313163, -0.09154970090455362, -0.09003780803373868, -0.09344152261999797, -0.09616560539069166, -0.09083512596152424, -0.094925353352903, -0.09670558657591406, -0.10134543148084772, -0.10179560701633296, -0.1083494877574254, -0.10675048346101558, -0.10856649378320328, -0.10029077261755742, -0.10224469959590997, -0.10021521054368265, -0.09320612284781289, -0.07958597180824839, -0.06607427365837465, -0.06111457721001996, -0.05148541548862405, -0.05026022664807051, -0.03991429651672797, -0.03374908744619792, -0.0342175729387258, -0.029558469822440456, -0.02869918245392558, -0.020579731418505498, -0.013772450440162967, -0.013322202751465817, -0.011014155875171657, -0.009738893699239873, -0.004744169201963711, -0.004179018189252922, -0.0021769785493812137, -0.0017448555970678086, -0.0015227456520825527, -0.0019627568790456474, -0.00030639691586073633, 0.0, 0.0, -0.00030639691586073633, 0.0, 0.0, 0.0, -0.0005720922944014524, 0.0, -0.00030639691586073633, -0.00030639691586073633, 0.0, 0.0, 0.0, 0.0, 0.0, 0.0, 0.0, 0.0, 0.0, 0.0]\n"
          ],
          "name": "stdout"
        }
      ]
    },
    {
      "cell_type": "code",
      "metadata": {
        "id": "j7Kqzma3EIsV",
        "colab_type": "code",
        "colab": {
          "base_uri": "https://localhost:8080/",
          "height": 35
        },
        "outputId": "3e5bc92e-44ab-400c-bad8-46b2ac70f20e"
      },
      "source": [
        "kapur_entropy=[]\n",
        "for i in range(len(thresholds)-1):\n",
        "    kapur_entropy.append(-(sum(mul[thresholds[i]:thresholds[i+1]])))\n",
        "    \n",
        "print(kapur_entropy)"
      ],
      "execution_count": 18,
      "outputs": [
        {
          "output_type": "stream",
          "text": [
            "[3.3780961751258025, 3.475162815646841, 3.6716386936787715, 3.6960369487137457, 3.7914616773338015]\n"
          ],
          "name": "stdout"
        }
      ]
    },
    {
      "cell_type": "markdown",
      "metadata": {
        "id": "UTVX1b0FF2bn",
        "colab_type": "text"
      },
      "source": [
        "# RESULTS"
      ]
    },
    {
      "cell_type": "code",
      "metadata": {
        "id": "0nZ_3GXvEMmd",
        "colab_type": "code",
        "colab": {
          "base_uri": "https://localhost:8080/",
          "height": 35
        },
        "outputId": "e8d74067-1813-463e-b90f-465d07c1cbcb"
      },
      "source": [
        "J=sum(kapur_entropy)\n",
        "print(J)"
      ],
      "execution_count": 19,
      "outputs": [
        {
          "output_type": "stream",
          "text": [
            "18.01239631049896\n"
          ],
          "name": "stdout"
        }
      ]
    }
  ]
}