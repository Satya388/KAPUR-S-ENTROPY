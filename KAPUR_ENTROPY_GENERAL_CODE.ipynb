{
  "nbformat": 4,
  "nbformat_minor": 0,
  "metadata": {
    "colab": {
      "name": "KAPUR ENTROPY GENERAL CODE",
      "provenance": [],
      "authorship_tag": "ABX9TyM9s3cq2dtChC1jrLygthI4",
      "include_colab_link": true
    },
    "kernelspec": {
      "name": "python3",
      "display_name": "Python 3"
    },
    "accelerator": "TPU"
  },
  "cells": [
    {
      "cell_type": "markdown",
      "metadata": {
        "id": "view-in-github",
        "colab_type": "text"
      },
      "source": [
        "<a href=\"https://colab.research.google.com/github/kartikeyaGUPTA45/KAPUR-S-ENTROPY/blob/master/KAPUR_ENTROPY_GENERAL_CODE.ipynb\" target=\"_parent\"><img src=\"https://colab.research.google.com/assets/colab-badge.svg\" alt=\"Open In Colab\"/></a>"
      ]
    },
    {
      "cell_type": "markdown",
      "metadata": {
        "id": "bEwSkPHZdX-3",
        "colab_type": "text"
      },
      "source": [
        "# KAPUR ENTROPY GENERAL CODE"
      ]
    },
    {
      "cell_type": "markdown",
      "metadata": {
        "id": "RPTsA0fRdeXY",
        "colab_type": "text"
      },
      "source": [
        "# IMPORTING LIBRARIES"
      ]
    },
    {
      "cell_type": "code",
      "metadata": {
        "id": "K5y1GiKaa5ko",
        "colab_type": "code",
        "colab": {}
      },
      "source": [
        "import math\n",
        "import numpy as np\n",
        "from matplotlib import pyplot as plt\n",
        "from PIL import Image"
      ],
      "execution_count": 0,
      "outputs": []
    },
    {
      "cell_type": "markdown",
      "metadata": {
        "id": "aiZ1NtJFdkPt",
        "colab_type": "text"
      },
      "source": [
        "# READ AN IMAGE AND CONVERT IT INTO GRAYSCALE"
      ]
    },
    {
      "cell_type": "code",
      "metadata": {
        "id": "f7T81PdbbPHk",
        "colab_type": "code",
        "colab": {
          "base_uri": "https://localhost:8080/",
          "height": 35
        },
        "outputId": "46a320ca-5838-4e04-c87c-bed65fb5cc9c"
      },
      "source": [
        "image = Image.open('lena.tiff').convert(\"L\")\n",
        "print(image)"
      ],
      "execution_count": 2,
      "outputs": [
        {
          "output_type": "stream",
          "text": [
            "<PIL.Image.Image image mode=L size=512x512 at 0x7FCC89D7FB38>\n"
          ],
          "name": "stdout"
        }
      ]
    },
    {
      "cell_type": "markdown",
      "metadata": {
        "id": "Hj4fl6O3dwHe",
        "colab_type": "text"
      },
      "source": [
        "# DEFINING THRESHOLDS"
      ]
    },
    {
      "cell_type": "code",
      "metadata": {
        "id": "sTrbWbbLbSLE",
        "colab_type": "code",
        "colab": {}
      },
      "source": [
        "thresholds=[73,109,136,160,188]\n",
        "thresholds.append(256)\n",
        "thresholds.insert(0,0)"
      ],
      "execution_count": 0,
      "outputs": []
    },
    {
      "cell_type": "markdown",
      "metadata": {
        "id": "MhMKvXrud45x",
        "colab_type": "text"
      },
      "source": [
        "# CONVERT AN IMAGE INTO ARRAY"
      ]
    },
    {
      "cell_type": "code",
      "metadata": {
        "id": "5RhN98ZDbVIu",
        "colab_type": "code",
        "colab": {
          "base_uri": "https://localhost:8080/",
          "height": 141
        },
        "outputId": "1f60bc55-bd37-4060-ee35-a1ea16e5b643"
      },
      "source": [
        "img = np.asarray(image)#Convert given input into array\n",
        "print(img)"
      ],
      "execution_count": 4,
      "outputs": [
        {
          "output_type": "stream",
          "text": [
            "[[162 162 162 ... 170 155 128]\n",
            " [162 162 162 ... 170 155 128]\n",
            " [162 162 162 ... 170 155 128]\n",
            " ...\n",
            " [ 43  43  50 ... 104 100  98]\n",
            " [ 44  44  55 ... 104 105 108]\n",
            " [ 44  44  55 ... 104 105 108]]\n"
          ],
          "name": "stdout"
        }
      ]
    },
    {
      "cell_type": "markdown",
      "metadata": {
        "id": "H9U-sj9Id-oi",
        "colab_type": "text"
      },
      "source": [
        "# MAKING HISTOGRAM "
      ]
    },
    {
      "cell_type": "code",
      "metadata": {
        "id": "km9rOA43byGl",
        "colab_type": "code",
        "colab": {}
      },
      "source": [
        "def Hist(img):\n",
        "    row, col = img.shape \n",
        "    y = np.zeros(256,dtype=float)\n",
        "    for i in range(0,row):\n",
        "        for j in range(0,col):\n",
        "             y[img[i,j]] += 1\n",
        "    x = np.arange(0,256)\n",
        "    plt.bar(x, y, color='b', width=5, align='edge', alpha=0.25)\n",
        "    plt.show()\n",
        "    return y"
      ],
      "execution_count": 0,
      "outputs": []
    },
    {
      "cell_type": "markdown",
      "metadata": {
        "id": "AtTgNedLeCsP",
        "colab_type": "text"
      },
      "source": [
        "# DISPLAY HISTOGRAM"
      ]
    },
    {
      "cell_type": "code",
      "metadata": {
        "id": "rnWqcRkgctxR",
        "colab_type": "code",
        "colab": {
          "base_uri": "https://localhost:8080/",
          "height": 265
        },
        "outputId": "e54c1265-1acc-4609-b9aa-c05df1b26616"
      },
      "source": [
        "h=Hist(img)"
      ],
      "execution_count": 6,
      "outputs": [
        {
          "output_type": "display_data",
          "data": {
            "image/png": "[encoded data removed]",
            "text/plain": [
              "<Figure size 432x288 with 1 Axes>"
            ]
          },
          "metadata": {
            "tags": [],
            "needs_background": "light"
          }
        }
      ]
    },
    {
      "cell_type": "markdown",
      "metadata": {
        "id": "KIMCVgZ_eI8Z",
        "colab_type": "text"
      },
      "source": [
        "# COUNT THE NUMBER OF PIXELS"
      ]
    },
    {
      "cell_type": "code",
      "metadata": {
        "id": "rRU567PqcxIO",
        "colab_type": "code",
        "colab": {
          "base_uri": "https://localhost:8080/",
          "height": 35
        },
        "outputId": "12a84be4-1c85-463b-cb7a-fe0143b6c242"
      },
      "source": [
        "\n",
        "cnt = 0\n",
        "for i in range(0, len(h)):\n",
        "    if h[i]>0:\n",
        "           cnt += h[i]\n",
        "            \n",
        "print(cnt)"
      ],
      "execution_count": 7,
      "outputs": [
        {
          "output_type": "stream",
          "text": [
            "262144.0\n"
          ],
          "name": "stdout"
        }
      ]
    },
    {
      "cell_type": "markdown",
      "metadata": {
        "id": "ZDbDmhaMeOwf",
        "colab_type": "text"
      },
      "source": [
        "# FINDING THE PROBABILITY OF AN INDIVIDUAL PIXEL"
      ]
    },
    {
      "cell_type": "code",
      "metadata": {
        "id": "g2OTG6HLc3St",
        "colab_type": "code",
        "colab": {
          "base_uri": "https://localhost:8080/",
          "height": 1000
        },
        "outputId": "6a86fbbf-5cb9-47e9-ce03-616dbd902651"
      },
      "source": [
        "prob=[]\n",
        "for i in range (len(h)):\n",
        "    h[i]=h[i]/cnt\n",
        "    prob.append(h[i])\n",
        "print(h)"
      ],
      "execution_count": 8,
      "outputs": [
        {
          "output_type": "stream",
          "text": [
            "[0.00000000e+00 0.00000000e+00 0.00000000e+00 0.00000000e+00\n",
            " 0.00000000e+00 0.00000000e+00 0.00000000e+00 0.00000000e+00\n",
            " 0.00000000e+00 0.00000000e+00 0.00000000e+00 0.00000000e+00\n",
            " 0.00000000e+00 0.00000000e+00 0.00000000e+00 0.00000000e+00\n",
            " 0.00000000e+00 0.00000000e+00 0.00000000e+00 0.00000000e+00\n",
            " 0.00000000e+00 0.00000000e+00 0.00000000e+00 0.00000000e+00\n",
            " 0.00000000e+00 3.81469727e-06 2.67028809e-05 7.24792480e-05\n",
            " 1.10626221e-04 2.25067139e-04 3.70025635e-04 5.22613525e-04\n",
            " 6.94274902e-04 8.43048096e-04 1.14059448e-03 1.60980225e-03\n",
            " 1.90353394e-03 2.34222412e-03 2.89154053e-03 3.60107422e-03\n",
            " 4.04357910e-03 4.78744507e-03 5.49697876e-03 6.28662109e-03\n",
            " 6.71386719e-03 7.18688965e-03 7.62176514e-03 7.97271729e-03\n",
            " 7.71713257e-03 8.01467896e-03 7.96508789e-03 7.74383545e-03\n",
            " 7.54547119e-03 6.89697266e-03 6.59942627e-03 6.36291504e-03\n",
            " 6.01577759e-03 5.60379028e-03 4.87518311e-03 4.71496582e-03\n",
            " 4.65393066e-03 3.82614136e-03 3.54766846e-03 3.71932983e-03\n",
            " 3.35693359e-03 3.40652466e-03 3.00979614e-03 3.04412842e-03\n",
            " 2.93350220e-03 2.98309326e-03 3.24249268e-03 3.13186646e-03\n",
            " 3.17001343e-03 2.99453735e-03 3.36837769e-03 3.45611572e-03\n",
            " 3.30734253e-03 3.25775146e-03 3.61251831e-03 3.71170044e-03\n",
            " 3.45611572e-03 3.47900391e-03 3.30734253e-03 3.56292725e-03\n",
            " 3.55911255e-03 3.70025635e-03 3.83377075e-03 3.88717651e-03\n",
            " 4.04357910e-03 4.32205200e-03 4.29153442e-03 4.52423096e-03\n",
            " 4.65011597e-03 5.05065918e-03 5.34057617e-03 5.86700439e-03\n",
            " 6.17599487e-03 6.89315796e-03 7.13729858e-03 7.95364380e-03\n",
            " 7.22885132e-03 7.38143921e-03 7.46917725e-03 6.98471069e-03\n",
            " 6.71768188e-03 6.59561157e-03 6.15692139e-03 5.73730469e-03\n",
            " 5.48171997e-03 5.19943237e-03 5.19561768e-03 5.13839722e-03\n",
            " 5.13076782e-03 5.52368164e-03 5.19561768e-03 5.15747070e-03\n",
            " 5.29479980e-03 5.53131104e-03 5.95474243e-03 6.00814819e-03\n",
            " 6.11877441e-03 6.79397583e-03 6.91604614e-03 7.22122192e-03\n",
            " 7.77053833e-03 8.15200806e-03 8.78906250e-03 8.84628296e-03\n",
            " 9.05227661e-03 9.60922241e-03 8.79287720e-03 8.78143311e-03\n",
            " 8.59069824e-03 7.91931152e-03 7.61032104e-03 6.93511963e-03\n",
            " 7.38143921e-03 7.25936890e-03 7.72476196e-03 8.16345215e-03\n",
            " 8.61358643e-03 8.79287720e-03 8.86535645e-03 9.36508179e-03\n",
            " 9.37652588e-03 9.18960571e-03 8.52203369e-03 8.83102417e-03\n",
            " 8.72802734e-03 8.32366943e-03 8.67843628e-03 8.83102417e-03\n",
            " 9.12094116e-03 9.91058350e-03 1.02424622e-02 1.04598999e-02\n",
            " 1.03034973e-02 9.75036621e-03 9.19342041e-03 8.62503052e-03\n",
            " 7.78579712e-03 7.06863403e-03 6.79397583e-03 6.15310669e-03\n",
            " 5.61904907e-03 5.43594360e-03 5.16128540e-03 4.70352173e-03\n",
            " 4.78363037e-03 4.55856323e-03 4.46701050e-03 4.60815430e-03\n",
            " 5.12695312e-03 4.82559204e-03 4.69207764e-03 4.41741943e-03\n",
            " 4.52041626e-03 4.68063354e-03 4.14276123e-03 3.59344482e-03\n",
            " 3.44848633e-03 3.13568115e-03 2.99072266e-03 2.62832642e-03\n",
            " 2.32696533e-03 2.39562988e-03 2.45666504e-03 2.59017944e-03\n",
            " 2.42233276e-03 2.52532959e-03 2.81906128e-03 3.04031372e-03\n",
            " 3.15856934e-03 3.58963013e-03 3.45230103e-03 3.73077393e-03\n",
            " 3.50570679e-03 3.47137451e-03 3.21578979e-03 3.14331055e-03\n",
            " 3.30734253e-03 3.44085693e-03 3.18145752e-03 3.37982178e-03\n",
            " 3.46755981e-03 3.70025635e-03 3.72314453e-03 4.06265259e-03\n",
            " 3.97872925e-03 4.07409668e-03 3.64685059e-03 3.74603271e-03\n",
            " 3.64303589e-03 3.29589844e-03 2.65884399e-03 2.07519531e-03\n",
            " 1.87301636e-03 1.49917603e-03 1.45339966e-03 1.08337402e-03\n",
            " 8.77380371e-04 8.92639160e-04 7.43865967e-04 7.17163086e-04\n",
            " 4.76837158e-04 2.93731689e-04 2.82287598e-04 2.25067139e-04\n",
            " 1.94549561e-04 8.39233398e-05 7.24792480e-05 3.43322754e-05\n",
            " 2.67028809e-05 2.28881836e-05 3.05175781e-05 3.81469727e-06\n",
            " 0.00000000e+00 0.00000000e+00 3.81469727e-06 0.00000000e+00\n",
            " 0.00000000e+00 0.00000000e+00 7.62939453e-06 0.00000000e+00\n",
            " 3.81469727e-06 3.81469727e-06 0.00000000e+00 0.00000000e+00\n",
            " 0.00000000e+00 0.00000000e+00 0.00000000e+00 0.00000000e+00\n",
            " 0.00000000e+00 0.00000000e+00 0.00000000e+00 0.00000000e+00]\n"
          ],
          "name": "stdout"
        }
      ]
    },
    {
      "cell_type": "markdown",
      "metadata": {
        "id": "Pz1wQ_tPedNU",
        "colab_type": "text"
      },
      "source": [
        "# KAPUR ENTROPY CALCULATION"
      ]
    },
    {
      "cell_type": "code",
      "metadata": {
        "id": "mFq3UnH6c5tH",
        "colab_type": "code",
        "colab": {
          "base_uri": "https://localhost:8080/",
          "height": 35
        },
        "outputId": "56e4c1de-1d7d-4821-8c48-30e8bd48ecf6"
      },
      "source": [
        "SUM=[]\n",
        "for i in range(len(thresholds)-1):\n",
        "    SUM.append(sum(h[thresholds[i]:thresholds[i+1]]))\n",
        "    \n",
        "print(SUM)"
      ],
      "execution_count": 9,
      "outputs": [
        {
          "output_type": "stream",
          "text": [
            "[0.19054794311523438, 0.178497314453125, 0.18722915649414062, 0.21425247192382812, 0.12511062622070312, 0.10436248779296875]\n"
          ],
          "name": "stdout"
        }
      ]
    },
    {
      "cell_type": "code",
      "metadata": {
        "id": "KqsJ05ETc--F",
        "colab_type": "code",
        "colab": {}
      },
      "source": [
        "w1=[]\n",
        "for i in range(len(thresholds)-1):\n",
        "    for j in range(thresholds[i],thresholds[i+1]):\n",
        "        if prob[j]==0:\n",
        "            w1.append(prob[j])\n",
        "        else:\n",
        "            w1.append((math.log(prob[j]/SUM[i]))*(prob[j]/SUM[i]))\n",
        "    "
      ],
      "execution_count": 0,
      "outputs": []
    },
    {
      "cell_type": "code",
      "metadata": {
        "id": "Sc6AizaWdEgz",
        "colab_type": "code",
        "colab": {
          "base_uri": "https://localhost:8080/",
          "height": 55
        },
        "outputId": "3907d085-70f9-4806-874a-f9edc0202863"
      },
      "source": [
        "print(w1)"
      ],
      "execution_count": 11,
      "outputs": [
        {
          "output_type": "stream",
          "text": [
            "[0.0, 0.0, 0.0, 0.0, 0.0, 0.0, 0.0, 0.0, 0.0, 0.0, 0.0, 0.0, 0.0, 0.0, 0.0, 0.0, 0.0, 0.0, 0.0, 0.0, 0.0, 0.0, 0.0, 0.0, 0.0, -0.00021658821252620213, -0.0012434228260472674, -0.0029951916412057364, -0.00432611073338643, -0.007962490465445048, -0.012125411344379795, -0.01617861328692805, -0.020457888395851012, -0.02398271020851762, -0.03063778332608326, -0.04033033234011433, -0.04601488783736576, -0.054070288196632614, -0.06355409759637433, -0.07500202250278824, -0.08175892442188587, -0.09255677013822945, -0.10228746580807768, -0.1125526855111517, -0.11788517827312485, -0.12362282711184691, -0.12875325614474725, -0.13279826188022867, -0.12986067417452923, -0.13327640578788866, -0.13271120227859778, -0.13016963956030494, -0.12786281646032369, -0.12012630064269211, -0.11647121241576304, -0.11351580397971385, -0.10909395663958253, -0.10370904810963286, -0.09378838469558966, -0.09153299107177144, -0.0906663296575885, -0.07847232601914254, -0.07416789038270682, -0.07683432412916684, -0.0711539466447755, -0.07194291650130531, -0.06552014654615129, -0.06608632433273243, -0.0642545806019185, -0.0650783663097934, -0.06931847683229897, -0.06752404404593373, -0.06814509450287212, -0.06857818196128089, -0.07491955193871154, -0.0763731400303123, -0.07390082820026482, -0.0730684738559473, -0.07893356785215708, -0.08053748914180975, -0.0763731400303123, -0.07675027170858821, -0.07390082820026482, -0.078125912058194, -0.07806362520121087, -0.08035318669765495, -0.08249120213204894, -0.08333906251676011, -0.08579863951995541, -0.09009479014544092, -0.08962900418970944, -0.09315052517123261, -0.09502743254669813, -0.10087477651711196, -0.1049952132015583, -0.11225471836882554, -0.11639083359137933, -0.1256637445591309, -0.12872278476637145, -0.13862021230500013, -0.1298577750727476, -0.13173502999252276, -0.13280642593809736, -0.12681647114598502, -0.12343523181743761, -0.12186985537376087, -0.11613807143881112, -0.11049167314947142, -0.1069689951098477, -0.09952318364334727, -0.0994705329074327, -0.09867897057518173, -0.09857317261445131, -0.10394494892983012, -0.0994705329074327, -0.09894320097116395, -0.1008346221111782, -0.10404774220668166, -0.10966677321230134, -0.11036381364586473, -0.1117996426740016, -0.12033831705939273, -0.12184268190918868, -0.12555368000907519, -0.13206172423742144, -0.13645821177004153, -0.14358984902336827, -0.1442180688288065, -0.14646338260284011, -0.15241025209048487, -0.1436317921025476, -0.14350593633189423, -0.14139653218443232, -0.13378798852266066, -0.13018564716818995, -0.12207669419486919, -0.11604096503665644, -0.11468695387300679, -0.11979909686162976, -0.12449789424459917, -0.12920489161656848, -0.13104880655277384, -0.13178935592260999, -0.13682115282568333, -0.13693490104663644, -0.13506879178985245, -0.12825662232923588, -0.13143891552515982, -0.13038384674907585, -0.12618622353970532, -0.12987383150398216, -0.13143891552515982, -0.13437884443682135, -0.14217195326733081, -0.14535824915465703, -0.14741850292396066, -0.1459387215325653, -0.14061528069933218, -0.1351070518190018, -0.1293231049332609, -0.17280992504351006, -0.16235183489973176, -0.1581956154357599, -0.1481460235409158, -0.1393655485529007, -0.13626354418246606, -0.131517552861875, -0.12334461851728527, -0.12479965397443224, -0.12068384549131637, -0.11898444570784193, -0.12159819817428445, -0.13091621388692073, -0.12555752449615445, -0.12313587036747167, -0.11805769461496493, -0.1199775654403855, -0.1229268991155321, -0.11284293402874733, -0.10196609455653594, -0.09898776478365955, -0.09239202633998582, -0.08925230088839045, -0.08115084847453323, -0.07411124052384055, -0.075741279893661, -0.07717698200541567, -0.08027572473907908, -0.08734532630055206, -0.09005161738714805, -0.0975536819829731, -0.10300898983532283, -0.10586073263537903, -0.11590765711639131, -0.11276374515623454, -0.11908644632001797, -0.11399248546541825, -0.113203483435413, -0.10722527720297065, -0.10549518391496791, -0.10938832622696436, -0.11249941787145488, -0.1064077324117405, -0.11108348288154316, -0.11311561629154057, -0.11840354383388414, -0.11891594571381775, -0.1263625416314696, -0.12454802436868585, -0.1266086810124292, -0.11720264920343874, -0.11942699934175069, -0.11711658554558338, -0.10911928710908578, -0.09350008277818334, -0.07790377119671157, -0.07215356347871704, -0.060950405018919164, -0.05952118666617239, -0.04741766097458308, -0.0401746304907897, -0.040725846118292816, -0.03523774101402516, -0.034224014682434925, -0.0246200861372683, -0.016529637812715454, -0.015993118614553197, -0.013239797599198647, -0.011716202590948835, -0.005730165946282756, -0.005050595091716355, -0.002638199328562707, -0.002116235793704165, -0.0018477238395543535, -0.0023795080716337612, -0.00037344704545834456, 0.0, 0.0, -0.00037344704545834456, 0.0, 0.0, 0.0, -0.0006962217332472729, 0.0, -0.00037344704545834456, -0.00037344704545834456, 0.0, 0.0, 0.0, 0.0, 0.0, 0.0, 0.0, 0.0, 0.0, 0.0]\n"
          ],
          "name": "stdout"
        }
      ]
    },
    {
      "cell_type": "code",
      "metadata": {
        "id": "XV6fUnm_dIqc",
        "colab_type": "code",
        "colab": {
          "base_uri": "https://localhost:8080/",
          "height": 35
        },
        "outputId": "0fcc3164-14c5-4928-bedd-58846952e16e"
      },
      "source": [
        "kapur_entropy=[]\n",
        "for i in range(len(thresholds)-1):\n",
        "    kapur_entropy.append(-(sum(w1[thresholds[i]:thresholds[i+1]])))\n",
        "    \n",
        "print(kapur_entropy)"
      ],
      "execution_count": 12,
      "outputs": [
        {
          "output_type": "stream",
          "text": [
            "[3.622596410525714, 3.537050665446613, 3.272837894434081, 3.173782873709266, 3.2825297705375984, 3.5675536433562254]\n"
          ],
          "name": "stdout"
        }
      ]
    },
    {
      "cell_type": "markdown",
      "metadata": {
        "id": "ZuCIm486ejtt",
        "colab_type": "text"
      },
      "source": [
        "# RESULT"
      ]
    },
    {
      "cell_type": "code",
      "metadata": {
        "id": "CsXq3sO_dM3I",
        "colab_type": "code",
        "colab": {
          "base_uri": "https://localhost:8080/",
          "height": 35
        },
        "outputId": "dc69ebbb-d337-4f84-d7cd-3820116104c0"
      },
      "source": [
        "J=sum(kapur_entropy)\n",
        "print(J)"
      ],
      "execution_count": 13,
      "outputs": [
        {
          "output_type": "stream",
          "text": [
            "20.456351258009498\n"
          ],
          "name": "stdout"
        }
      ]
    },
    {
      "cell_type": "code",
      "metadata": {
        "id": "d9tKF_5AdPd0",
        "colab_type": "code",
        "colab": {}
      },
      "source": [
        ""
      ],
      "execution_count": 0,
      "outputs": []
    }
  ]
}